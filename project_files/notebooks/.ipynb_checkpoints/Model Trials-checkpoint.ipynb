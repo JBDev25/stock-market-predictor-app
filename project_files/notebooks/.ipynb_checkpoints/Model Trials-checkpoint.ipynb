{
 "cells": [
  {
   "cell_type": "code",
   "execution_count": 10,
   "id": "d5e63eb4-874b-417e-bf25-1da15691cb7e",
   "metadata": {},
   "outputs": [],
   "source": [
    "import pandas as pd\n",
    "import numpy as np\n",
    "\n",
    "import matplotlib.pyplot as plt\n",
    "import seaborn as sns\n",
    "sns.set_style('whitegrid')\n",
    "plt.style.use(\"fivethirtyeight\")\n",
    "%matplotlib inline\n",
    "\n",
    "\n",
    "# For time stamps\n",
    "from datetime import datetime"
   ]
  },
  {
   "cell_type": "code",
   "execution_count": 11,
   "id": "9b80dff9-0fdf-48f0-8eeb-41d0bcff460b",
   "metadata": {},
   "outputs": [],
   "source": [
    "df = pd.read_csv('./data/all_stocks_5yr.csv')"
   ]
  },
  {
   "cell_type": "code",
   "execution_count": 12,
   "id": "d62383c2-0943-48e2-b902-aa48b77b189e",
   "metadata": {},
   "outputs": [],
   "source": [
    "top_10_companies_names = ['BAC', 'AAPL', 'GE', 'F', 'FB', 'MSFT', 'AMD', 'MU', 'INTC', 'CSCO']\n",
    "BAC = df[df['Name']=='BAC'].reset_index(drop=True)\n",
    "AAPL = df[df['Name']=='AAPL'].reset_index(drop=True)\n",
    "GE = df[df['Name']=='GE'].reset_index(drop=True)\n",
    "F = df[df['Name']=='F'].reset_index(drop=True)\n",
    "FB = df[df['Name']=='FB'].reset_index(drop=True)\n",
    "MSFT = df[df['Name']=='MSFT'].reset_index(drop=True)\n",
    "AMD = df[df['Name']=='AMD'].reset_index(drop=True)\n",
    "MU = df[df['Name']=='MU'].reset_index(drop=True)\n",
    "INTC = df[df['Name']=='INTC'].reset_index(drop=True)\n",
    "CSCO = df[df['Name']=='CSCO'].reset_index(drop=True)\n",
    "top_10_companies = [BAC, AAPL, GE, F, FB, MSFT, AMD, MU, INTC, CSCO] "
   ]
  },
  {
   "cell_type": "markdown",
   "id": "b8d3ef0a-5dba-45ad-8e48-18f786121b4d",
   "metadata": {},
   "source": [
    "## Add return"
   ]
  },
  {
   "cell_type": "code",
   "execution_count": 13,
   "id": "3124f484-135c-4c0f-9c87-f5f1c633dd2a",
   "metadata": {},
   "outputs": [],
   "source": [
    "for company in top_10_companies:\n",
    "    company['return'] = company['close'] - company['open']"
   ]
  },
  {
   "cell_type": "markdown",
   "id": "f2bd8c46-1976-4dcb-8ac5-3cbc34517530",
   "metadata": {},
   "source": [
    "## Moving average for 3 7 and 30 days"
   ]
  },
  {
   "cell_type": "code",
   "execution_count": 14,
   "id": "a6a22aff-f9b6-4220-bdf6-4e22d311fc8e",
   "metadata": {
    "tags": []
   },
   "outputs": [],
   "source": [
    "ma_day = [3, 7, 30]\n",
    "\n",
    "lag_feat = ['volume','high','low','return','open']\n",
    "for feat in lag_feat:\n",
    "    for ma in ma_day:\n",
    "        for company in top_10_companies:\n",
    "            column_name = f\"{feat}_mean{ma}d\"\n",
    "            company[column_name] = company[feat].rolling(ma).mean().shift(1)\n",
    "            column_name = f\"{feat}_sd{ma}d\"\n",
    "            company[column_name] = company[feat].rolling(ma).std().shift(1)\n",
    "            # company.reset_index()\n",
    "            \n",
    "        "
   ]
  },
  {
   "cell_type": "code",
   "execution_count": 15,
   "id": "59c11c83-67e3-47bf-bb7a-c4510a5a2c34",
   "metadata": {},
   "outputs": [],
   "source": [
    "exog_feat = list(F.columns[8:])"
   ]
  },
  {
   "cell_type": "code",
   "execution_count": 16,
   "id": "7c8be087-3988-4710-bbe9-07f56a59e1d0",
   "metadata": {},
   "outputs": [],
   "source": [
    "for company in top_10_companies:\n",
    "    company.index = pd.to_datetime(company['date'])"
   ]
  },
  {
   "cell_type": "markdown",
   "id": "377eadd9-bccc-4fb4-8107-31501f21a43f",
   "metadata": {
    "tags": []
   },
   "source": [
    "## ARIMA"
   ]
  },
  {
   "cell_type": "code",
   "execution_count": null,
   "id": "84a6537b-04f5-45b1-a7e5-2709bd8b285c",
   "metadata": {},
   "outputs": [],
   "source": [
    "series = BAC"
   ]
  },
  {
   "cell_type": "code",
   "execution_count": 9,
   "id": "b99b53c7-0e39-4c5b-a066-4bc23b912fad",
   "metadata": {},
   "outputs": [
    {
     "data": {
      "text/plain": [
       "1"
      ]
     },
     "execution_count": 9,
     "metadata": {},
     "output_type": "execute_result"
    }
   ],
   "source": [
    "from pmdarima.arima import ndiffs\n",
    "kpss_diff = ndiffs(F['close'].values, alpha=0.05, test='kpss', max_d=12)\n",
    "adf_diff = ndiffs(F['close'].values, alpha=0.05, test='adf', max_d=12)\n",
    "n_diffs = max(adf_diff , kpss_diff )\n",
    "n_diffs"
   ]
  },
  {
   "cell_type": "code",
   "execution_count": 17,
   "id": "6faa2648-9017-4b0a-97d1-e31962af8590",
   "metadata": {},
   "outputs": [],
   "source": [
    "train = series[30:-100]\n",
    "test = BAC[-100:]\n"
   ]
  },
  {
   "cell_type": "code",
   "execution_count": 32,
   "id": "9842a448-bf9f-4551-aa05-963ee3c54dc6",
   "metadata": {},
   "outputs": [
    {
     "name": "stdout",
     "output_type": "stream",
     "text": [
      "Performing stepwise search to minimize aic\n",
      " ARIMA(2,1,2)(0,0,0)[0] intercept   : AIC=223.449, Time=1.35 sec\n",
      " ARIMA(0,1,0)(0,0,0)[0] intercept   : AIC=219.284, Time=0.31 sec\n",
      " ARIMA(1,1,0)(0,0,0)[0] intercept   : AIC=218.425, Time=0.17 sec\n",
      " ARIMA(0,1,1)(0,0,0)[0] intercept   : AIC=218.280, Time=0.23 sec\n",
      " ARIMA(0,1,0)(0,0,0)[0]             : AIC=219.037, Time=0.62 sec\n",
      " ARIMA(1,1,1)(0,0,0)[0] intercept   : AIC=219.624, Time=0.61 sec\n",
      " ARIMA(0,1,2)(0,0,0)[0] intercept   : AIC=219.638, Time=0.30 sec\n",
      " ARIMA(1,1,2)(0,0,0)[0] intercept   : AIC=221.569, Time=0.38 sec\n",
      " ARIMA(0,1,1)(0,0,0)[0]             : AIC=217.860, Time=0.10 sec\n",
      " ARIMA(1,1,1)(0,0,0)[0]             : AIC=219.246, Time=0.42 sec\n",
      " ARIMA(0,1,2)(0,0,0)[0]             : AIC=219.294, Time=0.13 sec\n",
      " ARIMA(1,1,0)(0,0,0)[0]             : AIC=218.004, Time=0.16 sec\n",
      " ARIMA(1,1,2)(0,0,0)[0]             : AIC=221.281, Time=0.18 sec\n",
      "\n",
      "Best model:  ARIMA(0,1,1)(0,0,0)[0]          \n",
      "Total fit time: 5.021 seconds\n"
     ]
    }
   ],
   "source": [
    "from pmdarima import auto_arima\n",
    "model = auto_arima(\n",
    "    train['close'],\n",
    "    exogenous=train[exog_feat],\n",
    "    trace=True,\n",
    "    error_action=\"ignore\",\n",
    "    suppress_warnings=True,start_P=50,max_P=100)"
   ]
  },
  {
   "cell_type": "markdown",
   "id": "1be5b855-4668-46b0-ba60-1f807448249d",
   "metadata": {},
   "source": [
    "Not working for some reason"
   ]
  },
  {
   "cell_type": "markdown",
   "id": "2e6491e5-1505-48b4-b184-d4c2caee7d31",
   "metadata": {},
   "source": [
    "## Prophet"
   ]
  },
  {
   "cell_type": "code",
   "execution_count": null,
   "id": "f8bc2230-1936-4861-9b35-32de6ad5740c",
   "metadata": {},
   "outputs": [],
   "source": [
    "from prophet import Prophet\n",
    "model = Prophet()"
   ]
  },
  {
   "cell_type": "code",
   "execution_count": null,
   "id": "4569c8c6-e198-4f2f-b2c9-5bb426841081",
   "metadata": {},
   "outputs": [],
   "source": [
    "train = AAPL[30:-100]\n",
    "test = AAPL[-100:]\n"
   ]
  },
  {
   "cell_type": "code",
   "execution_count": null,
   "id": "247ddee3-a5c6-44cb-b34a-8fa27c79fc23",
   "metadata": {},
   "outputs": [],
   "source": [
    "for f in exog_feat:\n",
    "    model.add_regressor(f)"
   ]
  },
  {
   "cell_type": "code",
   "execution_count": null,
   "id": "11fb57ce-b5e3-4cf4-919c-e4ededb9e39c",
   "metadata": {},
   "outputs": [],
   "source": [
    "model.fit(train[[\"date\", \"close\"] + exog_feat].rename(columns={\"date\": \"ds\", \"close\": \"y\"}))"
   ]
  },
  {
   "cell_type": "code",
   "execution_count": null,
   "id": "13a28835-f0b3-4e50-b135-c12b7d351320",
   "metadata": {},
   "outputs": [],
   "source": [
    "forecast = model.predict(test[[\"date\", \"close\"] + exog_feat].rename(columns={\"date\": \"ds\"}))"
   ]
  },
  {
   "cell_type": "code",
   "execution_count": null,
   "id": "d272ad04-bc23-4902-b767-78aa34ce704b",
   "metadata": {},
   "outputs": [],
   "source": [
    "test = test.reset_index()"
   ]
  },
  {
   "cell_type": "code",
   "execution_count": null,
   "id": "8da32d86-ee9b-47d4-9bd2-89f2b5e1b357",
   "metadata": {},
   "outputs": [],
   "source": [
    "plt.plot(forecast['yhat'])\n",
    "plt.plot(test['close'])"
   ]
  },
  {
   "cell_type": "code",
   "execution_count": null,
   "id": "7f92c50b-4972-4e0d-a35d-4ac8be6625ec",
   "metadata": {},
   "outputs": [],
   "source": [
    "from sklearn.metrics import mean_absolute_error\n",
    "\n",
    "mean_absolute_error(forecast['yhat'],test['close'])"
   ]
  }
 ],
 "metadata": {
  "kernelspec": {
   "display_name": "Python 3 (ipykernel)",
   "language": "python",
   "name": "python3"
  },
  "language_info": {
   "codemirror_mode": {
    "name": "ipython",
    "version": 3
   },
   "file_extension": ".py",
   "mimetype": "text/x-python",
   "name": "python",
   "nbconvert_exporter": "python",
   "pygments_lexer": "ipython3",
   "version": "3.9.13"
  }
 },
 "nbformat": 4,
 "nbformat_minor": 5
}
